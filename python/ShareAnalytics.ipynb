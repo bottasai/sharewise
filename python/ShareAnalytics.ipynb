{
 "cells": [
  {
   "cell_type": "code",
   "execution_count": 326,
   "metadata": {
    "collapsed": true
   },
   "outputs": [],
   "source": [
    "import mysql.connector\n",
    "import numpy as np\n",
    "import pandas as pd\n",
    "import matplotlib.pyplot as pp"
   ]
  },
  {
   "cell_type": "code",
   "execution_count": 327,
   "metadata": {
    "collapsed": true
   },
   "outputs": [],
   "source": [
    "conn=mysql.connector.connect(user='root',password='newpass123',host='localhost',database='shares')"
   ]
  },
  {
   "cell_type": "code",
   "execution_count": 328,
   "metadata": {
    "collapsed": true
   },
   "outputs": [],
   "source": [
    "mycursor=conn.cursor()"
   ]
  },
  {
   "cell_type": "code",
   "execution_count": 329,
   "metadata": {},
   "outputs": [],
   "source": [
    "PriceHVolumeH=\"select b.symbol,last,(last-open)/open*100,b.tradedqty, v.avgvolume from shares.bhavdata b,shares.volumeAvgs v where date > curdate() -2 and (last-open)/open*100 > 1 and b.tradedqty > v.avgvolume * 1.5 and b.symbol = v.symbol and b.last > v.HIGH and tradedqty > 100000 order by tradedqty desc\""
   ]
  },
  {
   "cell_type": "code",
   "execution_count": 330,
   "metadata": {
    "collapsed": true
   },
   "outputs": [],
   "source": [
    "allbhavdata=\"select date,symbol,last,tradedqty from shares.bhavdata where date > curdate()-12\""
   ]
  },
  {
   "cell_type": "code",
   "execution_count": 331,
   "metadata": {},
   "outputs": [],
   "source": [
    "mycursor.execute(allbhavdata)"
   ]
  },
  {
   "cell_type": "code",
   "execution_count": 332,
   "metadata": {},
   "outputs": [],
   "source": [
    "rows=mycursor.fetchall()"
   ]
  },
  {
   "cell_type": "code",
   "execution_count": 333,
   "metadata": {},
   "outputs": [],
   "source": [
    "pdata =pd.DataFrame(rows)\n",
    "#pdata=pdata.set_index(pdata[pdata.columns[1]])\n",
    "pdata.columns= [\"date\",\"symbol\",\"price\",\"volume\"]\n",
    "#del pdata['symbol']\n",
    "#pdata.loc['8KMILES']"
   ]
  },
  {
   "cell_type": "markdown",
   "metadata": {},
   "source": [
    "sharewisestats=pdata.groupby('symbol')\n",
    "/* for symbol,symbol_df in sharewisestats:\n",
    "    print(symbol)\n",
    "    print(symbol_df) */\n",
    "    "
   ]
  },
  {
   "cell_type": "code",
   "execution_count": 334,
   "metadata": {},
   "outputs": [
    {
     "data": {
      "text/plain": [
       "<pandas.core.groupby.DataFrameGroupBy object at 0x7f17eb1faa90>"
      ]
     },
     "execution_count": 334,
     "metadata": {},
     "output_type": "execute_result"
    }
   ],
   "source": [
    "sharewisestats=pdata.groupby('symbol')\n",
    "sharewisestats"
   ]
  },
  {
   "cell_type": "code",
   "execution_count": 335,
   "metadata": {},
   "outputs": [
    {
     "data": {
      "text/plain": [
       "date\n",
       "2017-05-15     906.745\n",
       "2017-05-16     940.340\n",
       "2017-05-17     983.335\n",
       "2017-05-18    1034.335\n",
       "2017-05-19    1086.055\n",
       "2017-05-22    1126.395\n",
       "2017-05-23    1166.410\n",
       "2017-05-24    1212.010\n",
       "2017-05-25    1260.700\n",
       "2017-05-26    1313.250\n",
       "2017-05-29    1344.875\n",
       "2017-05-30    1359.945\n",
       "2017-05-31    1370.415\n",
       "2017-06-01    1372.715\n",
       "2017-06-02    1373.705\n",
       "2017-06-05    1384.095\n",
       "2017-06-06    1393.595\n",
       "2017-06-07    1400.095\n",
       "2017-06-08    1402.700\n",
       "2017-06-09    1402.750\n",
       "2017-06-12    1404.640\n",
       "2017-06-13    1407.565\n",
       "2017-06-14    1406.795\n",
       "2017-06-15    1401.800\n",
       "2017-06-16    1396.945\n",
       "2017-06-19    1391.425\n",
       "2017-06-20    1383.625\n",
       "2017-06-21    1372.815\n",
       "2017-06-22    1367.735\n",
       "2017-06-23    1366.235\n",
       "                ...   \n",
       "2017-07-07    1474.785\n",
       "2017-07-10    1489.185\n",
       "2017-07-11    1513.005\n",
       "2017-07-12    1536.650\n",
       "2017-07-13    1555.960\n",
       "2017-07-14    1564.130\n",
       "2017-07-17    1577.030\n",
       "2017-07-18    1588.355\n",
       "2017-07-19    1593.255\n",
       "2017-07-20    1601.375\n",
       "2017-07-21    1611.475\n",
       "2017-07-24    1617.975\n",
       "2017-07-25    1616.175\n",
       "2017-07-26    1615.185\n",
       "2017-07-27    1613.390\n",
       "2017-07-28    1615.500\n",
       "2017-07-31    1617.300\n",
       "2017-08-01    1628.295\n",
       "2017-08-02    1636.595\n",
       "2017-08-03    1651.025\n",
       "2017-08-04    1665.340\n",
       "2017-08-07    1683.540\n",
       "2017-08-08    1701.190\n",
       "2017-08-09    1710.390\n",
       "2017-08-10    1709.375\n",
       "2017-08-11    1716.810\n",
       "2017-08-14    1743.005\n",
       "2017-08-16    1766.210\n",
       "2017-08-17    1784.210\n",
       "2017-08-18    1797.410\n",
       "Name: AVANTIFEED, Length: 68, dtype: float64"
      ]
     },
     "execution_count": 335,
     "metadata": {},
     "output_type": "execute_result"
    }
   ],
   "source": [
    "pivoted_pricedf = pd.pivot_table(pdata, index='date',columns='symbol',values='price')\n",
    "dma_price = pivoted_df.rolling(window=10).mean()\n",
    "pivoted_volumedf = pd.pivot_table(pdata, index='date',columns='symbol',values='volume')\n",
    "dma3_volume = pivoted_volumedf.rolling(window=3).mean()\n",
    "dma3_volume.head()\n",
    "dma_price.tail(-9)['AVANTIFEED']"
   ]
  },
  {
   "cell_type": "code",
   "execution_count": 336,
   "metadata": {},
   "outputs": [
    {
     "name": "stdout",
     "output_type": "stream",
     "text": [
      "symbol\n"
     ]
    },
    {
     "data": {
      "text/plain": [
       "Rolling [window=3,center=False,axis=0]"
      ]
     },
     "execution_count": 336,
     "metadata": {},
     "output_type": "execute_result"
    }
   ],
   "source": [
    "mean=sharedatastats['price']['mean'].loc['AVANTIFEED']\n",
    "high=sharedatastats['price']['max'].loc['AVANTIFEED']\n",
    "if mean < high:\n",
    "    print (\"symbol\");\n",
    "rolledData=pdata.price.rolling(3)\n",
    "rolledData"
   ]
  },
  {
   "cell_type": "code",
   "execution_count": 337,
   "metadata": {
    "collapsed": true
   },
   "outputs": [],
   "source": [
    "WhichShare=\"BEML\""
   ]
  },
  {
   "cell_type": "code",
   "execution_count": 338,
   "metadata": {},
   "outputs": [
    {
     "data": {
      "image/png": "[encoded data removed]",
      "text/plain": [
       "<matplotlib.figure.Figure at 0x7f18032f3b90>"
      ]
     },
     "metadata": {},
     "output_type": "display_data"
    }
   ],
   "source": [
    "mycursor.execute(\"select tradedqty,nooftrades,last,date from shares.bhavdata where symbol =\\'\"+WhichShare+\"\\'\")\n",
    "rows=mycursor.fetchall()\n",
    "volumeData=np.array(rows)\n",
    "dates=volumeData[:,3]\n",
    "fig, ax1 = pp.subplots()\n",
    "ax1.plot(dates, volumeData[:,2], 'b-')\n",
    "ax1.tick_params('y', colors='b')\n",
    "ax2 = ax1.twinx()\n",
    "ax2.plot(dates, volumeData[:,0], 'r-')\n",
    "ax2.tick_params('y', colors='r')\n",
    "pp.title(WhichShare)\n",
    "pp.show()"
   ]
  },
  {
   "cell_type": "code",
   "execution_count": null,
   "metadata": {
    "collapsed": true
   },
   "outputs": [],
   "source": []
  }
 ],
 "metadata": {
  "kernelspec": {
   "display_name": "Python 2",
   "language": "python",
   "name": "python2"
  },
  "language_info": {
   "codemirror_mode": {
    "name": "ipython",
    "version": 2
   },
   "file_extension": ".py",
   "mimetype": "text/x-python",
   "name": "python",
   "nbconvert_exporter": "python",
   "pygments_lexer": "ipython2",
   "version": "2.7.13"
  }
 },
 "nbformat": 4,
 "nbformat_minor": 2
}
