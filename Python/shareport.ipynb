{
 "cells": [
  {
   "cell_type": "code",
   "execution_count": 1,
   "metadata": {},
   "outputs": [
    {
     "name": "stdout",
     "output_type": "stream",
     "text": [
      "+----------+-----------------+\n",
      "| symbol   |   pricechange5d |\n",
      "|----------+-----------------|\n",
      "| NBCC     |        -7.67521 |\n",
      "| STRTECH  |        -7.58145 |\n",
      "+----------+-----------------+\n",
      "+----------+------------------+\n",
      "| symbol   |   pricechange10d |\n",
      "|----------+------------------|\n",
      "| NBCC     |        -10.1809  |\n",
      "| SBIN     |         -5.63647 |\n",
      "| STRTECH  |         -5.83766 |\n",
      "+----------+------------------+\n"
     ]
    }
   ],
   "source": [
    "import mysql.connector\n",
    "import csv\n",
    "from tabulate import tabulate\n",
    "conn=mysql.connector.connect(user='root',password='mysql',host='172.18.0.2',database='shares',auth_plugin='mysql_native_password')\n",
    "mycursor=conn.cursor()\n",
    "file ='/home/saibotta/Downloads/holdings.csv'\n",
    "holdings = pd.read_csv(file)\n",
    "i=0\n",
    "mycursor.execute(\"select m.symbol,s.pricech from myholdings m, stchanges5d s where m.symbol=s.symbol and s.pricech < -5\")\n",
    "rows=mycursor.fetchall()\n",
    "print(tabulate(rows, headers=['symbol', 'pricechange5d'], tablefmt='psql'))\n",
    "mycursor.execute(\"select m.symbol,s.pricech from myholdings m, stchanges10d s where m.symbol=s.symbol and s.pricech < -5\")\n",
    "rows=mycursor.fetchall()\n",
    "print(tabulate(rows, headers=['symbol', 'pricechange10d'], tablefmt='psql'))\n"
   ]
  },
  {
   "cell_type": "code",
   "execution_count": null,
   "metadata": {},
   "outputs": [],
   "source": []
  }
 ],
 "metadata": {
  "kernelspec": {
   "display_name": "Python 3",
   "language": "python",
   "name": "python3"
  },
  "language_info": {
   "codemirror_mode": {
    "name": "ipython",
    "version": 3
   },
   "file_extension": ".py",
   "mimetype": "text/x-python",
   "name": "python",
   "nbconvert_exporter": "python",
   "pygments_lexer": "ipython3",
   "version": "3.7.3"
  }
 },
 "nbformat": 4,
 "nbformat_minor": 2
}
